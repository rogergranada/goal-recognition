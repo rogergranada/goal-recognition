{
 "cells": [
  {
   "cell_type": "markdown",
   "metadata": {},
   "source": [
    "# MPII Cooking 2: Attributes Annotation \n",
    "\n",
    "This file contains the structure of the [attributesAnnotations_MPII-Cooking-2.mat](http://datasets.d2.mpi-inf.mpg.de/MPII-Cooking-2/annos/attributesAnnotations_MPII-Cooking-2.mat) file, *i.e.*, what and where attributes are stored. It presents a brief description of the content of the file in order to make it easy to extract the content. Below, we describe each attribute and its content. All atributes listed here are stored in `annos` key. The content is extracted using Python as follows:"
   ]
  },
  {
   "cell_type": "code",
   "execution_count": 1,
   "metadata": {},
   "outputs": [
    {
     "name": "stdout",
     "output_type": "stream",
     "text": [
      "[u'#refs#', u'#subsystem#', u'annos']\n"
     ]
    }
   ],
   "source": [
    "import h5py\n",
    "import numpy as np\n",
    "from os import path\n",
    "\n",
    "FILEINPUT='attributesAnnotations_MPII-Cooking-2.mat'\n",
    "data = h5py.File(FILEINPUT, 'r')\n",
    "print(data.keys())\n",
    "\n",
    "def convert_hd52srt(data, key):\n",
    "    \"\"\"\n",
    "    Convert data inside `key` from h5py object to string\n",
    "    \n",
    "    data: h5py.File instance\n",
    "    key: data['annos'].keys(), e.g. '/annos/activities'\n",
    "    \"\"\"\n",
    "    content = []\n",
    "    for vec in data[key].value.flatten():\n",
    "        vec_srt = data[vec].value\n",
    "        str_data = vec_srt.astype('uint8').tobytes().decode('utf8')\n",
    "        content.append(str_data)\n",
    "    return content"
   ]
  },
  {
   "cell_type": "markdown",
   "metadata": {},
   "source": [
    "### Content of Annotation\n",
    "\n",
    "Below we present all the content stored in `annos`. The content is stored according to the following keys: "
   ]
  },
  {
   "cell_type": "code",
   "execution_count": 2,
   "metadata": {},
   "outputs": [
    {
     "name": "stdout",
     "output_type": "stream",
     "text": [
      "- activity\n",
      "- annoFileMap\n",
      "- attrFields\n",
      "- attributeMap\n",
      "- bgClassName\n",
      "- bgLabel\n",
      "- bgLabelAttr\n",
      "- classMap\n",
      "- className\n",
      "- containers\n",
      "- containersDestination\n",
      "- containersProperties\n",
      "- containersSource\n",
      "- dataset\n",
      "- dish\n",
      "- endFrame\n",
      "- endTimeSeconds\n",
      "- fields\n",
      "- fileId\n",
      "- fileName\n",
      "- fileNameId\n",
      "- filters\n",
      "- frameRate\n",
      "- iaMat\n",
      "- idxInFile\n",
      "- ingredients\n",
      "- ingredientsProperties\n",
      "- labels\n",
      "- minBgWindow\n",
      "- nImgsPerFile\n",
      "- nullAttr\n",
      "- nullAttrLabel\n",
      "- startFrame\n",
      "- startTimeSeconds\n",
      "- subject\n",
      "- tool\n",
      "- toolProperties\n"
     ]
    }
   ],
   "source": [
    "anno = data['annos']\n",
    "for key in anno.keys():\n",
    "    print('- {}'.format(key))"
   ]
  },
  {
   "cell_type": "markdown",
   "metadata": {},
   "source": [
    "According to the [MPII site](https://www.mpi-inf.mpg.de/departments/computer-vision-and-machine-learning/research/human-activity-recognition/mpii-cooking-2-dataset/), the most important information is stored in:\n",
    "    \n",
    "- **startFrame**: start frame, with respect to the video\n",
    "- **endFrame**: end frame, with respect to the video\n",
    "- **iaMat**: label matrix of attributes\n",
    "- **attributeMap**: Name of attributes\n",
    "- **subject**: id of human subject, determines training, val, test split\n",
    "- **dish**: dish/topic/composite id\n",
    "\n",
    "Although they consider these topics the most important, below we present the content of each topic."
   ]
  },
  {
   "cell_type": "markdown",
   "metadata": {},
   "source": [
    "## Key: dataset\n",
    "\n",
    "This attribute shows the name of the dataset created."
   ]
  },
  {
   "cell_type": "code",
   "execution_count": 3,
   "metadata": {},
   "outputs": [
    {
     "name": "stdout",
     "output_type": "stream",
     "text": [
      "Name of the dataset: cooking12eccv\n"
     ]
    }
   ],
   "source": [
    "anno = data['/annos/dataset'].value.flatten()\n",
    "dataset = anno.astype('uint8').tobytes().decode('utf8')\n",
    "print('Name of the dataset: {}'.format(dataset))"
   ]
  },
  {
   "cell_type": "markdown",
   "metadata": {},
   "source": [
    "## Key: bgClassName\n",
    "\n",
    "Background class name presents the name used for the background class in detection."
   ]
  },
  {
   "cell_type": "code",
   "execution_count": 4,
   "metadata": {},
   "outputs": [
    {
     "name": "stdout",
     "output_type": "stream",
     "text": [
      "Background class name:  Background activity\n"
     ]
    }
   ],
   "source": [
    "anno = data['/annos/bgClassName'].value.flatten()\n",
    "bgClassName = anno.astype('uint8').tobytes().decode('utf8')\n",
    "print('Background class name: {}'.format(bgClassName))"
   ]
  },
  {
   "cell_type": "markdown",
   "metadata": {},
   "source": [
    "## Key: bgLabel\n",
    "\n",
    "Background label describes the class label id used for background class in detection."
   ]
  },
  {
   "cell_type": "code",
   "execution_count": 5,
   "metadata": {},
   "outputs": [
    {
     "name": "stdout",
     "output_type": "stream",
     "text": [
      "Label for background: 1\n"
     ]
    }
   ],
   "source": [
    "anno = data['/annos/bgLabel'].value.flatten()\n",
    "bgLabel = int(anno)\n",
    "print('Label for background: {}'.format(bgLabel))"
   ]
  },
  {
   "cell_type": "markdown",
   "metadata": {},
   "source": [
    "## Key: bgLabelAttr\n",
    "\n",
    "Background label attribute presents the label id of the background class used for detection."
   ]
  },
  {
   "cell_type": "code",
   "execution_count": 6,
   "metadata": {},
   "outputs": [
    {
     "name": "stdout",
     "output_type": "stream",
     "text": [
      "Label attribute for background: 0\n"
     ]
    }
   ],
   "source": [
    "anno = data['/annos/bgLabelAttr'].value.flatten()\n",
    "bgLabelAttr = int(anno)\n",
    "print('Label attribute for background: {}'.format(bgLabelAttr))"
   ]
  },
  {
   "cell_type": "markdown",
   "metadata": {},
   "source": [
    "## Key: minBgWindow\n",
    "\n",
    "Minimum background window contains the number of minimal windows. It is only set for detection."
   ]
  },
  {
   "cell_type": "code",
   "execution_count": 7,
   "metadata": {},
   "outputs": [
    {
     "name": "stdout",
     "output_type": "stream",
     "text": [
      "Minimum background window: 0\n"
     ]
    }
   ],
   "source": [
    "minBgWindow = data['/annos/minBgWindow'].value.flatten()\n",
    "print('Minimum background window: {}'.format(int(minBgWindow)))"
   ]
  },
  {
   "cell_type": "markdown",
   "metadata": {},
   "source": [
    "## Key: frameRate\n",
    "\n",
    "frameRate field shows the frame rate of all videos."
   ]
  },
  {
   "cell_type": "code",
   "execution_count": 8,
   "metadata": {},
   "outputs": [
    {
     "name": "stdout",
     "output_type": "stream",
     "text": [
      "Frame rate of all videos: 29.4\n"
     ]
    }
   ],
   "source": [
    "frameRate = data['/annos/frameRate'].value.flatten()\n",
    "print('Frame rate of all videos: {}'.format(frameRate[0]))"
   ]
  },
  {
   "cell_type": "markdown",
   "metadata": {},
   "source": [
    "## Key: attrFields\n",
    "\n",
    "Attribute fields describe the attributes that are used in the dataset."
   ]
  },
  {
   "cell_type": "code",
   "execution_count": 9,
   "metadata": {},
   "outputs": [
    {
     "name": "stdout",
     "output_type": "stream",
     "text": [
      "Attribute fields key contains 4 elements.\n",
      "[u'activity' u'tool' u'ingredients' u'containers']\n"
     ]
    }
   ],
   "source": [
    "attrFields = convert_hd52srt(data, '/annos/attrFields')\n",
    "print('Attribute fields key contains {} elements.'.format(len(attrFields)))\n",
    "print (np.array(attrFields))"
   ]
  },
  {
   "cell_type": "markdown",
   "metadata": {},
   "source": [
    "## Key: fields\n",
    "\n",
    "Fields describe all the fields that are used. This is similar to `attrFields` key.   "
   ]
  },
  {
   "cell_type": "code",
   "execution_count": 10,
   "metadata": {},
   "outputs": [
    {
     "name": "stdout",
     "output_type": "stream",
     "text": [
      "Attribute fields key contains 4 elements.\n",
      "[u'activity' u'tool' u'ingredients' u'containers']\n"
     ]
    }
   ],
   "source": [
    "fields = convert_hd52srt(data, '/annos/fields')\n",
    "print('Attribute fields key contains {} elements.'.format(len(fields)))\n",
    "print (np.array(fields))"
   ]
  },
  {
   "cell_type": "markdown",
   "metadata": {},
   "source": [
    "## Key: annoFileMap\n",
    "\n",
    "Annotation for the file map contains the entire path for each video of the dataset. It contains 273 elements (paths). In the file name `s` represents the id of the subject that performs the video and `d` the id of the dish being executed. Thus, `s07-d72` represents the 7 subject doing the 72 dish. "
   ]
  },
  {
   "cell_type": "code",
   "execution_count": 11,
   "metadata": {},
   "outputs": [
    {
     "name": "stdout",
     "output_type": "stream",
     "text": [
      "File map contains 273 elements.\n",
      "[u'/BS/MPIICookingCompositeActivities/work/MPII-Cooking-2//annotations/tsv/s07-d72-cam-002.tsv'\n",
      " u'/BS/MPIICookingCompositeActivities/work/MPII-Cooking-2//annotations/tsv/s08-d02-cam-002.tsv'\n",
      " u'/BS/MPIICookingCompositeActivities/work/MPII-Cooking-2//annotations/tsv/s08-d04-cam-002.tsv'\n",
      " u'/BS/MPIICookingCompositeActivities/work/MPII-Cooking-2//annotations/tsv/s08-d11-cam-002.tsv'\n",
      " u'/BS/MPIICookingCompositeActivities/work/MPII-Cooking-2//annotations/tsv/s08-d14-cam-002.tsv'\n",
      " u'/BS/MPIICookingCompositeActivities/work/MPII-Cooking-2//annotations/tsv/s10-d02-cam-002.tsv'\n",
      " u'/BS/MPIICookingCompositeActivities/work/MPII-Cooking-2//annotations/tsv/s10-d10-cam-002.tsv'\n",
      " u'/BS/MPIICookingCompositeActivities/work/MPII-Cooking-2//annotations/tsv/s10-d11-cam-002.tsv'\n",
      " u'/BS/MPIICookingCompositeActivities/work/MPII-Cooking-2//annotations/tsv/s11-d01-cam-002.tsv'\n",
      " u'/BS/MPIICookingCompositeActivities/work/MPII-Cooking-2//annotations/tsv/s11-d06-cam-002.tsv']\n"
     ]
    }
   ],
   "source": [
    "annoFileMap = convert_hd52srt(data, '/annos/annoFileMap')\n",
    "print('File map contains {} elements.'.format(len(annoFileMap)))\n",
    "print (np.array(annoFileMap[:10]))"
   ]
  },
  {
   "cell_type": "markdown",
   "metadata": {},
   "source": [
    "## Key: classMap\n",
    "\n",
    "Simmilar to the `annoFileMap`, class map contains the entire path for each video of the dataset. It contains 273 elements (paths). In the file name `s` represents the id of the subject that performs the video and `d` the id of the dish being executed. Thus, `s07-d72` represents the 7 subject doing the 72 dish. "
   ]
  },
  {
   "cell_type": "code",
   "execution_count": 12,
   "metadata": {},
   "outputs": [
    {
     "name": "stdout",
     "output_type": "stream",
     "text": [
      "Class map contains 273 elements.\n",
      "[u'/BS/MPIICookingCompositeActivities/work/MPII-Cooking-2//annotations/tsv/s07-d72-cam-002.tsv'\n",
      " u'/BS/MPIICookingCompositeActivities/work/MPII-Cooking-2//annotations/tsv/s08-d02-cam-002.tsv'\n",
      " u'/BS/MPIICookingCompositeActivities/work/MPII-Cooking-2//annotations/tsv/s08-d04-cam-002.tsv'\n",
      " u'/BS/MPIICookingCompositeActivities/work/MPII-Cooking-2//annotations/tsv/s08-d11-cam-002.tsv'\n",
      " u'/BS/MPIICookingCompositeActivities/work/MPII-Cooking-2//annotations/tsv/s08-d14-cam-002.tsv'\n",
      " u'/BS/MPIICookingCompositeActivities/work/MPII-Cooking-2//annotations/tsv/s10-d02-cam-002.tsv'\n",
      " u'/BS/MPIICookingCompositeActivities/work/MPII-Cooking-2//annotations/tsv/s10-d10-cam-002.tsv'\n",
      " u'/BS/MPIICookingCompositeActivities/work/MPII-Cooking-2//annotations/tsv/s10-d11-cam-002.tsv'\n",
      " u'/BS/MPIICookingCompositeActivities/work/MPII-Cooking-2//annotations/tsv/s11-d01-cam-002.tsv'\n",
      " u'/BS/MPIICookingCompositeActivities/work/MPII-Cooking-2//annotations/tsv/s11-d06-cam-002.tsv']\n"
     ]
    }
   ],
   "source": [
    "classMap = convert_hd52srt(data, '/annos/classMap')\n",
    "print('Class map contains {} elements.'.format(len(classMap)))\n",
    "print (np.array(classMap[:10]))"
   ]
  },
  {
   "cell_type": "markdown",
   "metadata": {},
   "source": [
    "## Key: subject\n",
    "\n",
    "Id of human subject for each frame. It determines training, val, and test splits."
   ]
  },
  {
   "cell_type": "code",
   "execution_count": 13,
   "metadata": {},
   "outputs": [
    {
     "name": "stdout",
     "output_type": "stream",
     "text": [
      "Videos contain 30 subjects.\n",
      "List of subjects for each of the 14105 frames\n",
      "[ 7.  7.  7. ... 37. 37. 37.]\n",
      "List of subjects for the first 30 frames\n",
      "[7. 7. 7. 7. 7. 7. 8. 8. 8. 8. 8. 8. 8. 8. 8. 8. 8. 8. 8. 8. 8. 8. 8. 8.\n",
      " 8. 8. 8. 8. 8. 8.]\n"
     ]
    }
   ],
   "source": [
    "subject = data['/annos/subject'].value.flatten()\n",
    "print('Videos contain {} subjects.'.format(len(set(subject))))\n",
    "print('List of subjects for each of the {} frames'.format(subject.shape[0]))\n",
    "print(subject)\n",
    "print('List of subjects for the first 30 frames')\n",
    "print(subject[:30])"
   ]
  },
  {
   "cell_type": "markdown",
   "metadata": {},
   "source": [
    "## Key: dish\n",
    "\n",
    "Dish presents the list of all dish ids annotated for each frame in the dataset. Thus, a total of 14.105 dishes are described with a list of 59 unique dishes."
   ]
  },
  {
   "cell_type": "code",
   "execution_count": 14,
   "metadata": {},
   "outputs": [
    {
     "name": "stdout",
     "output_type": "stream",
     "text": [
      "Dish contains 14105 elements.\n",
      "[72 72 72 ... 74 74 74]\n",
      "\n",
      "Dish contains 59 unique elements.\n",
      "[1, 2, 3, 4, 5, 6, 7, 8, 9, 10, 11, 12, 13, 14, 21, 23, 24, 25, 26, 27, 28, 29, 31, 32, 34, 35, 36, 39, 40, 41, 42, 43, 45, 46, 47, 48, 49, 50, 51, 52, 53, 54, 55, 57, 58, 59, 60, 61, 62, 63, 65, 67, 68, 69, 70, 71, 72, 73, 74]\n"
     ]
    }
   ],
   "source": [
    "anno = data['/annos/dish'].value.flatten()\n",
    "dish = [int(id) for id in anno]\n",
    "print('Dish contains {} elements.'.format(len(dish)))\n",
    "print(np.array(dish))\n",
    "print('')\n",
    "setdish = set(dish)\n",
    "print('Dish contains {} unique elements.'.format(len(setdish)))\n",
    "print(sorted(setdish))"
   ]
  },
  {
   "cell_type": "markdown",
   "metadata": {},
   "source": [
    "## Key: fileName\n",
    "\n",
    "File name identifies the file containing the video. It has as identifier the structure: `sSS-dDD-cam-002` where `SS` is the subject and `DD` is the dish."
   ]
  },
  {
   "cell_type": "code",
   "execution_count": 15,
   "metadata": {},
   "outputs": [
    {
     "name": "stdout",
     "output_type": "stream",
     "text": [
      "File name vector contains 14105 elements.\n",
      "[u's07-d72-cam-002' u's07-d72-cam-002' u's07-d72-cam-002' ...\n",
      " u's37-d74-cam-002' u's37-d74-cam-002' u's37-d74-cam-002']\n",
      "\n",
      "File name vector contains 273 unique elements.\n"
     ]
    }
   ],
   "source": [
    "fileName = convert_hd52srt(data, '/annos/fileName')\n",
    "print('File name vector contains {} elements.'.format(len(fileName)))\n",
    "print (np.array(fileName))\n",
    "print('')\n",
    "setName = set(fileName)\n",
    "print('File name vector contains {} unique elements.'.format(len(setName)))"
   ]
  },
  {
   "cell_type": "markdown",
   "metadata": {},
   "source": [
    "## Key: fileId\n",
    "\n",
    "File ID presents the id for each file in the dataset (see `fileName`)."
   ]
  },
  {
   "cell_type": "code",
   "execution_count": 16,
   "metadata": {},
   "outputs": [
    {
     "name": "stdout",
     "output_type": "stream",
     "text": [
      "File ID vector contains 14105 elements.\n",
      "[  1   1   1 ... 273 273 273]\n"
     ]
    }
   ],
   "source": [
    "anno = data['/annos/fileId'].value.flatten()\n",
    "fileId = [int(id) for id in anno]\n",
    "print('File ID vector contains {} elements.'.format(len(fileId)))\n",
    "print(np.array(fileId))"
   ]
  },
  {
   "cell_type": "markdown",
   "metadata": {},
   "source": [
    "## Key: fileNameId\n",
    "\n",
    "File mame ID is a string identifying the video file without camera info, with the structured `sSS-dDD`, where `SS` is the subject and `DD` the dish."
   ]
  },
  {
   "cell_type": "code",
   "execution_count": 17,
   "metadata": {},
   "outputs": [
    {
     "name": "stdout",
     "output_type": "stream",
     "text": [
      "File name vector contains 14105 elements.\n",
      "[u's07-d72' u's07-d72' u's07-d72' ... u's37-d74' u's37-d74' u's37-d74']\n",
      "\n",
      "File name vector contains 273 unique elements.\n",
      "[u's07-d72', u's08-d02', u's08-d04', u's08-d11', u's08-d14', u's10-d02', u's10-d10', u's10-d11', u's11-d01', u's11-d06', u's11-d11', u's11-d12', u's11-d13', u's11-d14', u's12-d05', u's12-d07', u's12-d09', u's12-d10', u's12-d14', u's13-d08', u's13-d09', u's13-d11', u's13-d12', u's13-d13', u's13-d21', u's13-d23', u's13-d25', u's13-d27', u's13-d28', u's13-d31', u's13-d40', u's13-d45', u's13-d48', u's13-d49', u's13-d52', u's13-d54', u's13-d63', u's14-d08', u's14-d09', u's14-d11', u's14-d26', u's14-d27', u's14-d29', u's14-d32', u's14-d35', u's14-d36', u's14-d39', u's14-d43', u's14-d46', u's14-d50', u's14-d51', u's14-d61', u's14-d65', u's15-d03', u's15-d07', u's15-d14', u's15-d23', u's15-d24', u's15-d26', u's15-d29', u's15-d35', u's15-d46', u's15-d61', u's15-d70', u's15-d73', u's16-d01', u's16-d06', u's16-d09', u's16-d11', u's17-d02', u's17-d05', u's17-d13', u's17-d42', u's17-d48', u's17-d53', u's17-d55', u's17-d61', u's17-d62', u's17-d65', u's17-d68', u's17-d69', u's17-d71', u's17-d74', u's18-d11', u's19-d01', u's19-d06', u's19-d07', u's19-d09', u's19-d10', u's19-d12', u's20-d07', u's21-d21', u's21-d23', u's21-d27', u's21-d28', u's21-d29', u's21-d35', u's21-d39', u's21-d40', u's21-d42', u's21-d43', u's21-d45', u's21-d49', u's21-d50', u's21-d52', u's21-d53', u's21-d55', u's21-d60', u's21-d63', u's21-d65', u's22-d23', u's22-d25', u's22-d26', u's22-d29', u's22-d31', u's22-d32', u's22-d34', u's22-d35', u's22-d43', u's22-d46', u's22-d48', u's22-d53', u's22-d55', u's23-d21', u's23-d29', u's23-d31', u's23-d34', u's23-d39', u's23-d42', u's23-d43', u's23-d45', u's23-d46', u's23-d51', u's23-d54', u's23-d60', u's23-d63', u's24-d21', u's24-d23', u's24-d25', u's24-d28', u's24-d29', u's24-d34', u's24-d40', u's24-d41', u's24-d48', u's24-d50', u's24-d53', u's24-d58', u's25-d23', u's25-d27', u's25-d35', u's25-d47', u's25-d51', u's25-d52', u's25-d65', u's25-d68', u's25-d69', u's26-d23', u's26-d26', u's26-d36', u's26-d61', u's26-d68', u's26-d69', u's26-d70', u's26-d71', u's26-d72', u's26-d74', u's27-d21', u's27-d27', u's27-d29', u's27-d34', u's27-d45', u's27-d50', u's27-d54', u's27-d60', u's27-d61', u's27-d63', u's27-d70', u's27-d71', u's28-d23', u's28-d25', u's28-d27', u's28-d32', u's28-d39', u's28-d46', u's28-d47', u's28-d51', u's28-d60', u's28-d70', u's28-d74', u's29-d29', u's29-d31', u's29-d39', u's29-d42', u's29-d49', u's29-d50', u's29-d52', u's29-d68', u's29-d71', u's30-d21', u's30-d26', u's30-d29', u's30-d40', u's30-d41', u's30-d43', u's30-d47', u's30-d52', u's30-d53', u's31-d25', u's31-d26', u's31-d28', u's31-d29', u's31-d31', u's31-d49', u's31-d67', u's31-d73', u's32-d24', u's32-d27', u's32-d52', u's32-d55', u's32-d60', u's32-d63', u's32-d69', u's32-d70', u's32-d74', u's33-d23', u's33-d24', u's33-d27', u's33-d45', u's33-d49', u's33-d50', u's33-d54', u's33-d57', u's33-d60', u's33-d62', u's33-d65', u's33-d67', u's34-d21', u's34-d28', u's34-d34', u's34-d40', u's34-d41', u's34-d63', u's34-d69', u's34-d73', u's35-d40', u's35-d41', u's35-d42', u's35-d48', u's35-d55', u's35-d68', u's35-d73', u's36-d23', u's36-d27', u's36-d31', u's36-d42', u's36-d43', u's36-d49', u's36-d50', u's36-d60', u's36-d63', u's36-d65', u's36-d70', u's37-d21', u's37-d25', u's37-d29', u's37-d39', u's37-d42', u's37-d46', u's37-d59', u's37-d72', u's37-d73', u's37-d74']\n"
     ]
    }
   ],
   "source": [
    "fileNameId = convert_hd52srt(data, '/annos/fileNameId')\n",
    "print('File name vector contains {} elements.'.format(len(fileNameId)))\n",
    "print (np.array(fileNameId))\n",
    "print('')\n",
    "setNameId = set(fileNameId)\n",
    "print('File name vector contains {} unique elements.'.format(len(setNameId)))\n",
    "print(sorted(setNameId))"
   ]
  },
  {
   "cell_type": "markdown",
   "metadata": {},
   "source": [
    "## Key: idxInFile\n",
    "\n",
    "idxInFile contains the index of the annotation in the corresponding video."
   ]
  },
  {
   "cell_type": "code",
   "execution_count": 18,
   "metadata": {},
   "outputs": [
    {
     "name": "stdout",
     "output_type": "stream",
     "text": [
      "IDs vector contains (14105,) elements.\n",
      "The first 30 elements of the vector:\n",
      "[ 1.  2.  3.  4.  5.  6.  1.  2.  3.  4.  5.  6.  7.  8.  9. 10. 11. 12.\n",
      " 13. 14. 15. 16. 17. 18. 19. 20. 21. 22. 23. 24.]\n"
     ]
    }
   ],
   "source": [
    "idxInFile = data['/annos/idxInFile'].value.flatten()\n",
    "print('IDs vector contains {} elements.'.format(idxInFile.shape))\n",
    "print('The first 30 elements of the vector:')\n",
    "print(idxInFile[:30])"
   ]
  },
  {
   "cell_type": "markdown",
   "metadata": {},
   "source": [
    "## Key: activity\n",
    "\n",
    "Activity contains all actions of the dataset. Each frame contains a single action that is being executed. A total of 14.105 frames containing 87 unique activities are annotated."
   ]
  },
  {
   "cell_type": "code",
   "execution_count": 19,
   "metadata": {},
   "outputs": [
    {
     "name": "stdout",
     "output_type": "stream",
     "text": [
      "Activity contains 14105 elements.\n",
      "[u'enterV' u'take outV' u'take outV' ... u'assembleV' u'unplugV'\n",
      " u'push downV']\n",
      "\n",
      "Activity contains 87 unique elements.\n",
      "[u'addV', u'apply plasterV', u'arrangeV', u'assembleV', u'change temperatureV', u'chopV', u'cleanV', u'closeV', u'cut apartV', u'cut diceV', u'cut off endsV', u'cut out insideV', u'cut stripesV', u'cutV', u'dryV', u'enterV', u'fillV', u'flipV', u'foldV', u'gatherV', u'grateV', u'grindV', u'hangV', u'lockV', u'mixV', u'moveV', u'open capV', u'open closeV', u'open eggV', u'open tinV', u'openV', u'packageV', u'peelV', u'plugV', u'pokeV', u'pourV', u'pressV', u'pull apartV', u'pull upV', u'pullV', u'pureeV', u'purgeV', u'push downV', u'put inV', u'put lidV', u'put onV', u'put rubber bandV', u'readV', u'remove from packageV', u'remove labelV', u'remove rubber bandV', u'rip offV', u'rip openV', u'rip-offV', u'rollV', u'scratch offV', u'screw closeV', u'screw openV', u'shakeV', u'shapeV', u'sharpenV', u'sliceV', u'smellV', u'spiceV', u'spreadV', u'squashV', u'squeezeV', u'stampV', u'stirV', u'strewV', u'take apartV', u'take lidV', u'take outV', u'tapV', u'tasteV', u'test sharpnessV', u'test temperatureV', u'throw in garbageV', u'turn offV', u'turn onV', u'turn overV', u'unlockV', u'unplugV', u'unrollV', u'washV', u'whipV', u'wring outV']\n"
     ]
    }
   ],
   "source": [
    "att = convert_hd52srt(data, '/annos/activity')\n",
    "print('Activity contains {} elements.'.format(len(att)))\n",
    "print (np.array(att))\n",
    "print('')\n",
    "setatt = set(att)\n",
    "print('Activity contains {} unique elements.'.format(len(setatt)))\n",
    "print(sorted(set(att)))"
   ]
  },
  {
   "cell_type": "markdown",
   "metadata": {},
   "source": [
    "## Key: attributeMap\n",
    "\n",
    "Attribute map contains the name of all attributes used in the dataset. It includes the attributes that are verbs (actions/activities) and names of objects. Actions are represented with the letter `V` in the end of the word."
   ]
  },
  {
   "cell_type": "code",
   "execution_count": 20,
   "metadata": {},
   "outputs": [
    {
     "name": "stdout",
     "output_type": "stream",
     "text": [
      "Attribute map contains 222 elements.\n",
      "[u'addV', u'apple', u'arils', u'arrangeV', u'asparagus', u'avocado', u'bag', u'baking-paper', u'baking-tray', u'blender', u'bottle', u'bowl', u'box-grater', u'bread', u'bread-knife', u'broccoli', u'bun', u'bundle', u'butter', u'carafe', u'carrot', u'cauliflower', u'change temperatureV', u'cheese', u'chefs-knife', u'chilli', u'chive', u'chocolate', u'chopV', u'cleanV', u'closeV', u'coffee', u'coffee-container', u'coffee-machine', u'coffee-powder', u'colander', u'cooking-spoon', u'corn', u'counter', u'cream', u'cucumber', u'cup', u'cupboard', u'cut apartV', u'cut diceV', u'cut off endsV', u'cut out insideV', u'cut stripesV', u'cutV', u'cutting-board', u'dough', u'drawer', u'dryV', u'egg', u'eggshell', u'electricity-column', u'electricity-plug', u'enterV', u'fig', u'fillV', u'filter-basket', u'finger', u'flat-grater', u'flower-pot', u'food', u'fork', u'fridge', u'front-peeler', u'frying-pan', u'garbage', u'garlic-bulb', u'garlic-clove', u'gatherV', u'ginger', u'glass', u'grateV', u'green-beans', u'ham', u'hand', u'handle', u'hangV', u'hook', u'hot-chocolate-powder-bag', u'hot-dog', u'jar', u'ketchup', u'kettle-power-base', u'kiwi', u'knife', u'knife-sharpener', u'kohlrabi', u'ladle', u'leek', u'lemon', u'lid', u'lime', u'mango', u'masher', u'measuring-pitcher', u'measuring-spoon', u'milk', u'mixV', u'mortar', u'moveV', u'mushroom', u'net-bag', u'oil', u'onion', u'open closeV', u'open eggV', u'open tinV', u'openV', u'orange', u'oregano', u'oven', u'packageV', u'paper', u'paper-bag', u'paper-box', u'parsley', u'pasta', u'peach', u'pear', u'peel', u'peelV', u'pepper', u'peppercorn', u'pestle', u'philadelphia', u'pineapple', u'plastic-bag', u'plastic-bottle', u'plastic-box', u'plastic-paper-bag', u'plate', u'plugV', u'plum', u'pomegranate', u'pot', u'potato', u'pourV', u'pull apartV', u'pull upV', u'pullV', u'puree', u'pureeV', u'purgeV', u'push downV', u'put inV', u'put lidV', u'put onV', u'raspberries', u'readV', u'remove from packageV', u'rip openV', u'salad', u'salami', u'salt', u'scratch offV', u'screw closeV', u'screw openV', u'seed', u'shakeV', u'shapeV', u'side-peeler', u'sink', u'sliceV', u'smellV', u'soup', u'spatula', u'spice', u'spice-holder', u'spice-shaker', u'spiceV', u'spinach', u'sponge', u'sponge-cloth', u'spoon', u'spreadV', u'squeezeV', u'squeezer', u'stampV', u'stirV', u'stone', u'stove', u'strewV', u'sugar', u'table-knife', u'take apartV', u'take lidV', u'take outV', u'tap', u'tapV', u'tasteV', u'tea-egg', u'tea-herbs', u'teapot', u'teaspoon', u'test temperatureV', u'throw in garbageV', u'tin', u'tin-opener', u'tissue', u'toaster', u'tomato', u'tongs', u'top', u'towel', u'tube', u'turn offV', u'turn onV', u'turn overV', u'unplugV', u'washV', u'water', u'water-kettle', u'whipV', u'wire-whisk', u'wrapping-paper', u'wring outV', u'yolk', u'zucchini']\n"
     ]
    }
   ],
   "source": [
    "attributeMap = convert_hd52srt(data, '/annos/attributeMap')\n",
    "print('Attribute map contains {} elements.'.format(len(attributeMap)))\n",
    "print (attributeMap)"
   ]
  },
  {
   "cell_type": "markdown",
   "metadata": {},
   "source": [
    "## Key: className\n",
    "\n",
    "Class name contains all class names for a given frame. Thus, a total of 14.105 class names (one for each frame) are described and each frame contains all the classes presented in it. For example, the frame `id=1` contains the class `take outVhandbottlefridge` that represents the verb `take outV` and the objects `hand`, `bottle` and `fridge`."
   ]
  },
  {
   "cell_type": "code",
   "execution_count": 22,
   "metadata": {},
   "outputs": [
    {
     "name": "stdout",
     "output_type": "stream",
     "text": [
      "Class name contains 14105 elements.\n",
      "[u'enterV' u'take outVhandbottlefridge'\n",
      " u'take outVhandglass mugcupboardcounter' ...\n",
      " u'assembleVhandcarafecoffee machine'\n",
      " u'unplugVhandelectricity plugelectricity column'\n",
      " u'push downVhandelectricity column']\n",
      "\n",
      "Class name contains 3268 unique elements.\n",
      "The 20 first class names are:\n",
      "[u'addVbowleggbowlfrying pan', u'addVbowlpotatobowlpot', u'addVbowlspatulacarrotbowlfrying pan', u'addVbowlspatulacreambowlfrying pan', u'addVcappuccino powder bagcappuccino powdercappuccino powder bagcup', u'addVchefs knifebutterfrying pan', u'addVchefs knifebutterplastic boxfrying pan', u'addVchefs knifecauliflowercutting boardcolander', u'addVchefs knifecauliflowercutting boardpot', u'addVchefs knifechiveoreganoparsleycutting boardbowl', u'addVchefs knifecutting boardbroccolicutting boardpot', u'addVchefs knifecutting boardleekcutting boardfrying pan', u'addVchefs knifehandchivecutting boardbowl', u'addVchefs knifehandhammushroomcutting boardbowl', u'addVchefs knifehandmangocutting boardbowl', u'addVchefs knifehandstonecutting boardbowl', u'addVchefs knifeleekcutting boardbowl', u'addVchefs knifeleekcutting boardfrying pan', u'addVchefs knifeleekcutting boardpot', u'addVchefs knifeonioncutting boardbowl']\n"
     ]
    }
   ],
   "source": [
    "className = convert_hd52srt(data, '/annos/className')\n",
    "print('Class name contains {} elements.'.format(len(className)))\n",
    "print (np.array(className))\n",
    "print('')\n",
    "setclassName = set(className)\n",
    "print('Class name contains {} unique elements.'.format(len(setclassName)))\n",
    "print('The 20 first class names are:')\n",
    "print(sorted(setclassName)[:20])"
   ]
  },
  {
   "cell_type": "markdown",
   "metadata": {},
   "source": [
    "## Key: iaMat\n",
    "\n",
    "Attributes matrix contains the attributes of `attributeMap` in each frame. It is represented by a matrix of ( `attributeMap` x frames), resulting in a (222, 14.105) binary matrix, where `0` indicates that the attribute $x$ does not occur in the frame $y$."
   ]
  },
  {
   "cell_type": "code",
   "execution_count": 23,
   "metadata": {},
   "outputs": [
    {
     "name": "stdout",
     "output_type": "stream",
     "text": [
      "Matrix of attributes has the shape: (222, 14105)\n",
      "[[0. 0. 0. ... 0. 0. 0.]\n",
      " [0. 0. 0. ... 0. 0. 0.]\n",
      " [0. 0. 0. ... 0. 0. 0.]\n",
      " ...\n",
      " [0. 0. 0. ... 0. 0. 0.]\n",
      " [0. 0. 0. ... 0. 0. 0.]\n",
      " [0. 0. 0. ... 0. 0. 0.]]\n"
     ]
    }
   ],
   "source": [
    "iaMat = data['/annos/iaMat'].value\n",
    "print('Matrix of attributes has the shape: {}'.format(iaMat.shape))\n",
    "print(iaMat)"
   ]
  },
  {
   "cell_type": "code",
   "execution_count": 24,
   "metadata": {},
   "outputs": [
    {
     "name": "stdout",
     "output_type": "stream",
     "text": [
      "Frame 1 has the following attributes:\n",
      "- bottle\n",
      "- fridge\n",
      "- hand\n",
      "- take outV\n",
      "Frame 1 has the following attributes: take outVhandbottlefridge\n"
     ]
    }
   ],
   "source": [
    "frame1 = iaMat.T[1]\n",
    "idels = np.argwhere(frame1).flatten()\n",
    "print('Frame 1 has the following attributes:')\n",
    "for id in idels:\n",
    "    print('- {}'.format(attributeMap[id]))\n",
    "    \n",
    "# In order to verify whether it is correct, we can check the className vector at position 1\n",
    "print('Frame 1 has the following attributes: {}'.format(className[1]))"
   ]
  },
  {
   "cell_type": "markdown",
   "metadata": {},
   "source": [
    "## Key: startFrame\n",
    "\n",
    "Start frame described the id of the start frame, with respect to the video corresponding to a certain action."
   ]
  },
  {
   "cell_type": "code",
   "execution_count": 25,
   "metadata": {},
   "outputs": [
    {
     "name": "stdout",
     "output_type": "stream",
     "text": [
      "Start frame vector contains 14105 elements.\n",
      "[  194   270   454 ... 10953 11019 11064]\n"
     ]
    }
   ],
   "source": [
    "anno = data['/annos/startFrame'].value.flatten()\n",
    "startFrame = [int(id) for id in anno]\n",
    "print('Start frame vector contains {} elements.'.format(len(startFrame)))\n",
    "print(np.array(startFrame))"
   ]
  },
  {
   "cell_type": "markdown",
   "metadata": {},
   "source": [
    "## Key: startTimeSeconds\n",
    "\n",
    "Start time of each action in seconds, with respect to the video.    "
   ]
  },
  {
   "cell_type": "code",
   "execution_count": 26,
   "metadata": {},
   "outputs": [
    {
     "name": "stdout",
     "output_type": "stream",
     "text": [
      "Start time vector contains 14105 elements.\n",
      "[  6   9  15 ... 372 374 376]\n"
     ]
    }
   ],
   "source": [
    "anno = data['/annos/startTimeSeconds'].value.flatten()\n",
    "startTimeSeconds = [int(id) for id in anno]\n",
    "print('Start time vector contains {} elements.'.format(len(startTimeSeconds)))\n",
    "print(np.array(startTimeSeconds))"
   ]
  },
  {
   "cell_type": "markdown",
   "metadata": {},
   "source": [
    "## Key: endFrame\n",
    "\n",
    "End frame described the id of the last frame, with respect to the video corresponding to a certain action."
   ]
  },
  {
   "cell_type": "code",
   "execution_count": 27,
   "metadata": {},
   "outputs": [
    {
     "name": "stdout",
     "output_type": "stream",
     "text": [
      "End frame vector contains 14105 elements.\n",
      "[  243   414   725 ... 10994 11045 11094]\n"
     ]
    }
   ],
   "source": [
    "anno = data['/annos/endFrame'].value.flatten()\n",
    "endFrame = [int(id) for id in anno]\n",
    "print('End frame vector contains {} elements.'.format(len(endFrame)))\n",
    "print(np.array(endFrame))"
   ]
  },
  {
   "cell_type": "markdown",
   "metadata": {},
   "source": [
    "## Key: endTimeSeconds\n",
    "\n",
    "End time of each action in seconds, with respect to the video.    "
   ]
  },
  {
   "cell_type": "code",
   "execution_count": 28,
   "metadata": {},
   "outputs": [
    {
     "name": "stdout",
     "output_type": "stream",
     "text": [
      "End time vector contains 14105 elements.\n",
      "[  8  14  24 ... 373 375 377]\n"
     ]
    }
   ],
   "source": [
    "anno = data['/annos/endTimeSeconds'].value.flatten()\n",
    "endTimeSeconds = [int(id) for id in anno]\n",
    "print('End time vector contains {} elements.'.format(len(endTimeSeconds)))\n",
    "print(np.array(endTimeSeconds))"
   ]
  },
  {
   "cell_type": "markdown",
   "metadata": {},
   "source": [
    "## Key: labels\n",
    "\n",
    "Labels contains ids to \"something\" in each frame. **Vector containing strange values**"
   ]
  },
  {
   "cell_type": "code",
   "execution_count": 29,
   "metadata": {},
   "outputs": [
    {
     "name": "stdout",
     "output_type": "stream",
     "text": [
      "Labels vector contains 14105 elements.\n",
      "[ 706. 2559. 2684. ...  294. 3111. 1714.]\n",
      "Labels vector contains 3268 unique elements.\n"
     ]
    }
   ],
   "source": [
    "labels = data['/annos/labels'].value.flatten()\n",
    "print('Labels vector contains {} elements.'.format(labels.shape[0]))\n",
    "print(labels)\n",
    "print('Labels vector contains {} unique elements.'.format(len(set(labels))))"
   ]
  },
  {
   "cell_type": "markdown",
   "metadata": {},
   "source": [
    "## Key: nImgsPerFile\n",
    "\n",
    "Number of frames per video. **Returns a strange array**"
   ]
  },
  {
   "cell_type": "code",
   "execution_count": 30,
   "metadata": {},
   "outputs": [
    {
     "name": "stdout",
     "output_type": "stream",
     "text": [
      "[3707764736          2          1          1          1          1]\n"
     ]
    }
   ],
   "source": [
    "nImgsPerFile = data['/annos/nImgsPerFile'].value.flatten()\n",
    "print(nImgsPerFile)"
   ]
  },
  {
   "cell_type": "markdown",
   "metadata": {},
   "source": [
    "## Key: nullAttr\n",
    "\n",
    "As said in [README](https://datasets.d2.mpi-inf.mpg.de/MPII-Cooking-2/annos/annos.mat-README.txt) site: **IGNORE**"
   ]
  },
  {
   "cell_type": "code",
   "execution_count": 31,
   "metadata": {},
   "outputs": [
    {
     "name": "stdout",
     "output_type": "stream",
     "text": [
      "[0]\n"
     ]
    }
   ],
   "source": [
    "nullAttr = data['/annos/nullAttr'].value.flatten()\n",
    "print(nullAttr)"
   ]
  },
  {
   "cell_type": "markdown",
   "metadata": {},
   "source": [
    "## Key: nullAttrLabel\n",
    "\n",
    "As said in [README](https://datasets.d2.mpi-inf.mpg.de/MPII-Cooking-2/annos/annos.mat-README.txt) site: **IGNORE**"
   ]
  },
  {
   "cell_type": "code",
   "execution_count": 32,
   "metadata": {},
   "outputs": [
    {
     "name": "stdout",
     "output_type": "stream",
     "text": [
      "[110 117 108 108]\n"
     ]
    }
   ],
   "source": [
    "nullAttrLabel = data['/annos/nullAttrLabel'].value.flatten()\n",
    "print(nullAttrLabel)"
   ]
  },
  {
   "cell_type": "markdown",
   "metadata": {},
   "source": [
    "## Key: filters\n",
    "\n",
    "**IGNORE**, string replacements to clean up annotations (already applied to this data). \n",
    "\n",
    "```diff\n",
    "- HDF5 object reference!\n",
    "```"
   ]
  },
  {
   "cell_type": "markdown",
   "metadata": {},
   "source": [
    "## Key: tool\n",
    "\n",
    "More annotation details, **relevant is iaMat**\n",
    "\n",
    "```diff\n",
    "- HDF5 object reference!\n",
    "```"
   ]
  },
  {
   "cell_type": "markdown",
   "metadata": {},
   "source": [
    "## Key: toolProperties\n",
    "\n",
    "More annotation details, **relevant is iaMat**\n",
    "\n",
    "```diff\n",
    "- HDF5 object reference!\n",
    "```"
   ]
  },
  {
   "cell_type": "markdown",
   "metadata": {},
   "source": [
    "## Key: containers\n",
    "\n",
    "More annotation details, **relevant is iaMat** \n",
    "\n",
    "```diff\n",
    "- HDF5 object reference!\n",
    "```"
   ]
  },
  {
   "cell_type": "markdown",
   "metadata": {},
   "source": [
    "## Key: containersDestination\n",
    "\n",
    "More annotation details, **relevant is iaMat** \n",
    "\n",
    "```diff\n",
    "- HDF5 object reference!\n",
    "```"
   ]
  },
  {
   "cell_type": "markdown",
   "metadata": {},
   "source": [
    "## Key: containersProperties\n",
    "\n",
    "More annotation details, **relevant is iaMat**\n",
    "\n",
    "```diff\n",
    "- HDF5 object reference!\n",
    "```"
   ]
  },
  {
   "cell_type": "markdown",
   "metadata": {},
   "source": [
    "## Key: containersSource\n",
    "\n",
    "More annotation details, **relevant is iaMat** \n",
    "\n",
    "```diff\n",
    "- HDF5 object reference!\n",
    "```"
   ]
  },
  {
   "cell_type": "markdown",
   "metadata": {},
   "source": [
    "## Key: ingredients\n",
    "\n",
    "More annotation details, **relevant is iaMat** \n",
    "\n",
    "```diff\n",
    "- HDF5 object reference!\n",
    "```"
   ]
  },
  {
   "cell_type": "markdown",
   "metadata": {},
   "source": [
    "## Key: ingredientsProperties\n",
    "\n",
    "More annotation details, **relevant is iaMat**\n",
    "\n",
    "```diff\n",
    "- HDF5 object reference!\n",
    "```"
   ]
  }
 ],
 "metadata": {
  "kernelspec": {
   "display_name": "Python 2",
   "language": "python",
   "name": "python2"
  },
  "language_info": {
   "codemirror_mode": {
    "name": "ipython",
    "version": 2
   },
   "file_extension": ".py",
   "mimetype": "text/x-python",
   "name": "python",
   "nbconvert_exporter": "python",
   "pygments_lexer": "ipython2",
   "version": "2.7.12"
  }
 },
 "nbformat": 4,
 "nbformat_minor": 2
}
